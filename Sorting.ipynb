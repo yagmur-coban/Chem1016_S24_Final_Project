{
 "cells": [
  {
   "cell_type": "code",
   "execution_count": 9,
   "id": "5132b9f9",
   "metadata": {},
   "outputs": [
    {
     "name": "stdout",
     "output_type": "stream",
     "text": [
      "      formula   bandgap\n",
      "58    As4BeZn  1.530531\n",
      "197   B14BeCa  1.122390\n",
      "198   Be4P3Rb  1.525953\n",
      "233   B12BeN2  1.333942\n",
      "247   Ba2BeP2  1.030700\n",
      "280   B14BeLi  1.010536\n",
      "285  As2BeCa2  1.562820\n",
      "334    BeP4Zn  1.608231\n",
      "337   Be4NaP3  1.520362\n"
     ]
    }
   ],
   "source": [
    "# Read the CSV file\n",
    "df = pd.read_csv('./HSE_data_2.csv')\n",
    "\n",
    "# Filter the data for bandgap values between 1 and 2 eV\n",
    "filtered_df = df[(df['bandgap'] >= 1) & (df['bandgap'] <= 2)]\n",
    "\n",
    "# Print the filtered data\n",
    "print(filtered_df)\n"
   ]
  },
  {
   "cell_type": "code",
   "execution_count": null,
   "id": "4400ceda",
   "metadata": {},
   "outputs": [],
   "source": []
  }
 ],
 "metadata": {
  "kernelspec": {
   "display_name": "Python 3 (ipykernel)",
   "language": "python",
   "name": "python3"
  },
  "language_info": {
   "codemirror_mode": {
    "name": "ipython",
    "version": 3
   },
   "file_extension": ".py",
   "mimetype": "text/x-python",
   "name": "python",
   "nbconvert_exporter": "python",
   "pygments_lexer": "ipython3",
   "version": "3.9.7"
  }
 },
 "nbformat": 4,
 "nbformat_minor": 5
}
